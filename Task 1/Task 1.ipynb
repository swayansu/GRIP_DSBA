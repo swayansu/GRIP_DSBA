{
 "cells": [
  {
   "cell_type": "markdown",
   "id": "e34f07d0",
   "metadata": {},
   "source": [
    "# Predict the percentage of a student on the basis of the study hours"
   ]
  },
  {
   "cell_type": "markdown",
   "id": "c994f64c",
   "metadata": {},
   "source": [
    "## Data Preprocessing"
   ]
  },
  {
   "cell_type": "markdown",
   "id": "1dfbc825",
   "metadata": {},
   "source": [
    "### Importing the necessary Libraies"
   ]
  },
  {
   "cell_type": "code",
   "execution_count": 1,
   "id": "1da14ed6",
   "metadata": {},
   "outputs": [],
   "source": [
    "import pandas as pd\n",
    "import numpy as np\n",
    "import matplotlib.pyplot as plt\n",
    "%matplotlib inline\n",
    "import seaborn as sns\n",
    "from sklearn.impute import SimpleImputer\n",
    "from sklearn.compose import ColumnTransformer\n",
    "from sklearn.preprocessing import OneHotEncoder, LabelEncoder,StandardScaler\n",
    "from sklearn.model_selection import train_test_split"
   ]
  },
  {
   "cell_type": "markdown",
   "id": "77c64c3a",
   "metadata": {},
   "source": [
    "### Importing the dataset and observing it"
   ]
  },
  {
   "cell_type": "code",
   "execution_count": 2,
   "id": "ac4fae69",
   "metadata": {},
   "outputs": [
    {
     "name": "stdout",
     "output_type": "stream",
     "text": [
      "<class 'pandas.core.frame.DataFrame'>\n",
      "RangeIndex: 25 entries, 0 to 24\n",
      "Data columns (total 2 columns):\n",
      " #   Column  Non-Null Count  Dtype  \n",
      "---  ------  --------------  -----  \n",
      " 0   Hours   25 non-null     float64\n",
      " 1   Scores  25 non-null     int64  \n",
      "dtypes: float64(1), int64(1)\n",
      "memory usage: 528.0 bytes\n"
     ]
    }
   ],
   "source": [
    "ds = pd.read_csv(\"study.csv\")\n",
    "ds.info()"
   ]
  },
  {
   "cell_type": "code",
   "execution_count": 5,
   "id": "45db3c30",
   "metadata": {},
   "outputs": [
    {
     "data": {
      "text/plain": [
       "(25, 2)"
      ]
     },
     "execution_count": 5,
     "metadata": {},
     "output_type": "execute_result"
    }
   ],
   "source": [
    "ds.shape"
   ]
  },
  {
   "cell_type": "markdown",
   "id": "da0d02c7",
   "metadata": {},
   "source": [
    "The above dataset contains 2 attributes and 25 rows with 0 Null values."
   ]
  },
  {
   "cell_type": "code",
   "execution_count": 3,
   "id": "a921172b",
   "metadata": {},
   "outputs": [
    {
     "data": {
      "text/html": [
       "<div>\n",
       "<style scoped>\n",
       "    .dataframe tbody tr th:only-of-type {\n",
       "        vertical-align: middle;\n",
       "    }\n",
       "\n",
       "    .dataframe tbody tr th {\n",
       "        vertical-align: top;\n",
       "    }\n",
       "\n",
       "    .dataframe thead th {\n",
       "        text-align: right;\n",
       "    }\n",
       "</style>\n",
       "<table border=\"1\" class=\"dataframe\">\n",
       "  <thead>\n",
       "    <tr style=\"text-align: right;\">\n",
       "      <th></th>\n",
       "      <th>Hours</th>\n",
       "      <th>Scores</th>\n",
       "    </tr>\n",
       "  </thead>\n",
       "  <tbody>\n",
       "    <tr>\n",
       "      <th>0</th>\n",
       "      <td>2.5</td>\n",
       "      <td>21</td>\n",
       "    </tr>\n",
       "    <tr>\n",
       "      <th>1</th>\n",
       "      <td>5.1</td>\n",
       "      <td>47</td>\n",
       "    </tr>\n",
       "    <tr>\n",
       "      <th>2</th>\n",
       "      <td>3.2</td>\n",
       "      <td>27</td>\n",
       "    </tr>\n",
       "    <tr>\n",
       "      <th>3</th>\n",
       "      <td>8.5</td>\n",
       "      <td>75</td>\n",
       "    </tr>\n",
       "    <tr>\n",
       "      <th>4</th>\n",
       "      <td>3.5</td>\n",
       "      <td>30</td>\n",
       "    </tr>\n",
       "  </tbody>\n",
       "</table>\n",
       "</div>"
      ],
      "text/plain": [
       "   Hours  Scores\n",
       "0    2.5      21\n",
       "1    5.1      47\n",
       "2    3.2      27\n",
       "3    8.5      75\n",
       "4    3.5      30"
      ]
     },
     "execution_count": 3,
     "metadata": {},
     "output_type": "execute_result"
    }
   ],
   "source": [
    "ds.head()"
   ]
  },
  {
   "cell_type": "markdown",
   "id": "304d82fa",
   "metadata": {},
   "source": [
    "### Visualizing The data"
   ]
  },
  {
   "cell_type": "code",
   "execution_count": 7,
   "id": "518afe2e",
   "metadata": {},
   "outputs": [
    {
     "data": {
      "image/png": "[encoded data removed]",
      "text/plain": [
       "<Figure size 432x288 with 1 Axes>"
      ]
     },
     "metadata": {
      "needs_background": "light"
     },
     "output_type": "display_data"
    }
   ],
   "source": [
    "plt.scatter(ds['Hours'], ds['Scores'])\n",
    "plt.title(\"Hours Vs Scores\")\n",
    "plt.xlabel('Hours')\n",
    "plt.ylabel('Scores(in %)');"
   ]
  },
  {
   "cell_type": "markdown",
   "id": "c919fe28",
   "metadata": {},
   "source": [
    "There may be a presence of linear relationship in the data."
   ]
  },
  {
   "cell_type": "markdown",
   "id": "fb9a2a56",
   "metadata": {},
   "source": [
    "### dividing the data into Feature vector anf Dependent Variable vector"
   ]
  },
  {
   "cell_type": "code",
   "execution_count": 11,
   "id": "55e85952",
   "metadata": {},
   "outputs": [],
   "source": [
    "x = ds.iloc[:,:-1].values\n",
    "y = ds.iloc[:,-1].values"
   ]
  },
  {
   "cell_type": "code",
   "execution_count": 16,
   "id": "2311dc66",
   "metadata": {},
   "outputs": [
    {
     "data": {
      "text/plain": [
       "array([[2.7],\n",
       "       [3.3],\n",
       "       [5.1],\n",
       "       [3.8],\n",
       "       [1.5],\n",
       "       [3.2]])"
      ]
     },
     "execution_count": 16,
     "metadata": {},
     "output_type": "execute_result"
    }
   ],
   "source": [
    "x_train[:6,:]"
   ]
  },
  {
   "cell_type": "code",
   "execution_count": 13,
   "id": "9798d2d3",
   "metadata": {},
   "outputs": [
    {
     "data": {
      "text/plain": [
       "array([21, 47, 27, 75, 30, 20, 88, 60, 81, 25, 85, 62, 41, 42, 17, 95, 30,\n",
       "       24, 67, 69, 30, 54, 35, 76, 86], dtype=int64)"
      ]
     },
     "execution_count": 13,
     "metadata": {},
     "output_type": "execute_result"
    }
   ],
   "source": [
    "y"
   ]
  },
  {
   "cell_type": "markdown",
   "id": "a0d37540",
   "metadata": {},
   "source": [
    "### Replacing the Missing Data"
   ]
  },
  {
   "cell_type": "markdown",
   "id": "5819aefd",
   "metadata": {},
   "source": [
    "There are no null valuyes orof Missing data. So this step can be skipped."
   ]
  },
  {
   "cell_type": "markdown",
   "id": "a86ab589",
   "metadata": {},
   "source": [
    "### Splitting the trang and testing dataset"
   ]
  },
  {
   "cell_type": "code",
   "execution_count": 15,
   "id": "ee42df30",
   "metadata": {},
   "outputs": [],
   "source": [
    "x_train, x_test, y_train, y_test = train_test_split(x,y, test_size=0.2, random_state=42)"
   ]
  },
  {
   "cell_type": "code",
   "execution_count": 17,
   "id": "bd177c46",
   "metadata": {},
   "outputs": [
    {
     "data": {
      "text/plain": [
       "array([[2.7],\n",
       "       [3.3],\n",
       "       [5.1],\n",
       "       [3.8],\n",
       "       [1.5],\n",
       "       [3.2]])"
      ]
     },
     "execution_count": 17,
     "metadata": {},
     "output_type": "execute_result"
    }
   ],
   "source": [
    "x_train[:6,:]"
   ]
  },
  {
   "cell_type": "markdown",
   "id": "68f0d8a5",
   "metadata": {},
   "source": [
    "### Feature Scaling is not required"
   ]
  },
  {
   "cell_type": "markdown",
   "id": "7b4cadf0",
   "metadata": {},
   "source": [
    "## Building the Prediction Model"
   ]
  },
  {
   "cell_type": "markdown",
   "id": "4f7fb741",
   "metadata": {},
   "source": [
    "As this is a supervised learning model and from the visualization of the data it was seen that there is a presence of the Linear Realation So we are going to use **Linear Regression Model**"
   ]
  },
  {
   "cell_type": "code",
   "execution_count": 18,
   "id": "fa59bdaf",
   "metadata": {},
   "outputs": [],
   "source": [
    "from sklearn.linear_model import LinearRegression"
   ]
  },
  {
   "cell_type": "code",
   "execution_count": 26,
   "id": "0b485075",
   "metadata": {},
   "outputs": [
    {
     "data": {
      "text/plain": [
       "LinearRegression()"
      ]
     },
     "execution_count": 26,
     "metadata": {},
     "output_type": "execute_result"
    }
   ],
   "source": [
    "lr = LinearRegression()\n",
    "lr.fit(x_train, y_train)"
   ]
  },
  {
   "cell_type": "markdown",
   "id": "b069ffdf",
   "metadata": {},
   "source": [
    "#### The Coefficients and the intercept"
   ]
  },
  {
   "cell_type": "code",
   "execution_count": 27,
   "id": "5f3e470a",
   "metadata": {},
   "outputs": [
    {
     "data": {
      "text/plain": [
       "array([9.68207815])"
      ]
     },
     "execution_count": 27,
     "metadata": {},
     "output_type": "execute_result"
    }
   ],
   "source": [
    "lr.coef_"
   ]
  },
  {
   "cell_type": "code",
   "execution_count": 28,
   "id": "292b532e",
   "metadata": {},
   "outputs": [
    {
     "data": {
      "text/plain": [
       "2.826892353899737"
      ]
     },
     "execution_count": 28,
     "metadata": {},
     "output_type": "execute_result"
    }
   ],
   "source": [
    "lr.intercept_"
   ]
  },
  {
   "cell_type": "code",
   "execution_count": 31,
   "id": "ebabb89a",
   "metadata": {},
   "outputs": [
    {
     "data": {
      "image/png": "[encoded data removed]",
      "text/plain": [
       "<Figure size 432x288 with 1 Axes>"
      ]
     },
     "metadata": {
      "needs_background": "light"
     },
     "output_type": "display_data"
    }
   ],
   "source": [
    "line = lr.coef_*x_train + lr.intercept_\n",
    "\n",
    "# Equation of the Straight Line y= m*x + c\n",
    "\n",
    "plt.scatter(x_train, y_train)\n",
    "plt.plot(x_train,line, color='orange')\n",
    "plt.title(\"Hours Vs Scores\")\n",
    "plt.xlabel('Hours')\n",
    "plt.ylabel('Scores(in %)')\n",
    "plt.show()"
   ]
  },
  {
   "cell_type": "markdown",
   "id": "31878a34",
   "metadata": {},
   "source": [
    "#### pREDICTING THE DATA FOR THE tESTING DATA SET"
   ]
  },
  {
   "cell_type": "code",
   "execution_count": 21,
   "id": "535b23fd",
   "metadata": {},
   "outputs": [],
   "source": [
    "y_predited = lr.predict(x_test)"
   ]
  },
  {
   "cell_type": "code",
   "execution_count": 22,
   "id": "623e61df",
   "metadata": {},
   "outputs": [
    {
     "data": {
      "text/plain": [
       "array([83.18814104, 27.03208774, 27.03208774, 69.63323162, 59.95115347])"
      ]
     },
     "execution_count": 22,
     "metadata": {},
     "output_type": "execute_result"
    }
   ],
   "source": [
    "y_predited"
   ]
  },
  {
   "cell_type": "code",
   "execution_count": 25,
   "id": "0ecdc4c9",
   "metadata": {},
   "outputs": [
    {
     "data": {
      "text/html": [
       "<div>\n",
       "<style scoped>\n",
       "    .dataframe tbody tr th:only-of-type {\n",
       "        vertical-align: middle;\n",
       "    }\n",
       "\n",
       "    .dataframe tbody tr th {\n",
       "        vertical-align: top;\n",
       "    }\n",
       "\n",
       "    .dataframe thead th {\n",
       "        text-align: right;\n",
       "    }\n",
       "</style>\n",
       "<table border=\"1\" class=\"dataframe\">\n",
       "  <thead>\n",
       "    <tr style=\"text-align: right;\">\n",
       "      <th></th>\n",
       "      <th>Observed</th>\n",
       "      <th>Predicted</th>\n",
       "    </tr>\n",
       "  </thead>\n",
       "  <tbody>\n",
       "    <tr>\n",
       "      <th>0</th>\n",
       "      <td>81</td>\n",
       "      <td>83.188141</td>\n",
       "    </tr>\n",
       "    <tr>\n",
       "      <th>1</th>\n",
       "      <td>30</td>\n",
       "      <td>27.032088</td>\n",
       "    </tr>\n",
       "    <tr>\n",
       "      <th>2</th>\n",
       "      <td>21</td>\n",
       "      <td>27.032088</td>\n",
       "    </tr>\n",
       "    <tr>\n",
       "      <th>3</th>\n",
       "      <td>76</td>\n",
       "      <td>69.633232</td>\n",
       "    </tr>\n",
       "    <tr>\n",
       "      <th>4</th>\n",
       "      <td>62</td>\n",
       "      <td>59.951153</td>\n",
       "    </tr>\n",
       "  </tbody>\n",
       "</table>\n",
       "</div>"
      ],
      "text/plain": [
       "   Observed  Predicted\n",
       "0        81  83.188141\n",
       "1        30  27.032088\n",
       "2        21  27.032088\n",
       "3        76  69.633232\n",
       "4        62  59.951153"
      ]
     },
     "execution_count": 25,
     "metadata": {},
     "output_type": "execute_result"
    }
   ],
   "source": [
    "pd.DataFrame({'Observed':y_test, 'Predicted':y_predited})"
   ]
  },
  {
   "cell_type": "code",
   "execution_count": 36,
   "id": "a7ff9e46",
   "metadata": {},
   "outputs": [
    {
     "data": {
      "image/png": "[encoded data removed]",
      "text/plain": [
       "<Figure size 360x360 with 1 Axes>"
      ]
     },
     "metadata": {
      "needs_background": "light"
     },
     "output_type": "display_data"
    }
   ],
   "source": [
    "plt.figure(figsize=(5,5))\n",
    "plt.scatter(x_test, y_test)\n",
    "plt.plot(x_train,line, color='red')\n",
    "plt.title(\"Hours Vs Scores\")\n",
    "plt.xlabel('Hours')\n",
    "plt.ylabel('Scores(in %)')\n",
    "plt.show()"
   ]
  },
  {
   "cell_type": "markdown",
   "id": "c0787df0",
   "metadata": {},
   "source": [
    "### The Accuracy and quality of the Model"
   ]
  },
  {
   "cell_type": "code",
   "execution_count": 38,
   "id": "4f4bda87",
   "metadata": {},
   "outputs": [
    {
     "name": "stdout",
     "output_type": "stream",
     "text": [
      "The Training score of the linear regression model is:  0.9491209376364416\n",
      "The Testing score of the linear regression model is:  0.9678055545167994\n"
     ]
    }
   ],
   "source": [
    "print(\"The Training score of the linear regression model is: \", lr.score(x_train, y_train))\n",
    "print(\"The Testing score of the linear regression model is: \", lr.score(x_test, y_test))"
   ]
  },
  {
   "cell_type": "markdown",
   "id": "b48225d9",
   "metadata": {},
   "source": [
    "### Error Check"
   ]
  },
  {
   "cell_type": "code",
   "execution_count": 41,
   "id": "47c79727",
   "metadata": {},
   "outputs": [
    {
     "name": "stdout",
     "output_type": "stream",
     "text": [
      "Mean Absolute error in the model:  3.9207511902099244\n",
      "Root Mean Squared error in the model:  4.352380006653288\n"
     ]
    }
   ],
   "source": [
    "from sklearn.metrics import mean_absolute_error, mean_squared_error\n",
    "print(\"Mean Absolute error in the model: \", mean_absolute_error(y_test, y_predited))\n",
    "print(\"Root Mean Squared error in the model: \", np.sqrt(mean_squared_error(y_test, y_predited)))"
   ]
  },
  {
   "cell_type": "markdown",
   "id": "526835ac",
   "metadata": {},
   "source": [
    "### Question:"
   ]
  },
  {
   "cell_type": "markdown",
   "id": "66ff36eb",
   "metadata": {},
   "source": [
    "#### Question: If a student studies for 9.25 hrs a day , what would be it's possible percentage in the result?"
   ]
  },
  {
   "cell_type": "code",
   "execution_count": 43,
   "id": "946a691f",
   "metadata": {},
   "outputs": [
    {
     "name": "stdout",
     "output_type": "stream",
     "text": [
      "If the student study for 9.25  hours, then he may score upto 92.38611528261494 %\n"
     ]
    }
   ],
   "source": [
    "Hour = np.array([[9.25]])\n",
    "Result = lr.predict(Hour)\n",
    "print('If the student study for',Hour[0][0],' hours, then he may score upto',Result[0],'%')"
   ]
  },
  {
   "cell_type": "markdown",
   "id": "35aa0353",
   "metadata": {},
   "source": [
    "### Thank You !!! "
   ]
  }
 ],
 "metadata": {
  "kernelspec": {
   "display_name": "Python 3",
   "language": "python",
   "name": "python3"
  },
  "language_info": {
   "codemirror_mode": {
    "name": "ipython",
    "version": 3
   },
   "file_extension": ".py",
   "mimetype": "text/x-python",
   "name": "python",
   "nbconvert_exporter": "python",
   "pygments_lexer": "ipython3",
   "version": "3.8.8"
  }
 },
 "nbformat": 4,
 "nbformat_minor": 5
}
